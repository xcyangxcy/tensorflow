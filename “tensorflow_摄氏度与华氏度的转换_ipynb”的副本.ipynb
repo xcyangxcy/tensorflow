{
  "nbformat": 4,
  "nbformat_minor": 0,
  "metadata": {
    "colab": {
      "provenance": [],
      "authorship_tag": "ABX9TyMkLiixI/Z13IevUqo6qdHU",
      "include_colab_link": true
    },
    "kernelspec": {
      "name": "python3",
      "display_name": "Python 3"
    },
    "language_info": {
      "name": "python"
    }
  },
  "cells": [
    {
      "cell_type": "markdown",
      "metadata": {
        "id": "view-in-github",
        "colab_type": "text"
      },
      "source": [
        "<a href=\"https://colab.research.google.com/github/xcyangxcy/tensorflow/blob/main/%E2%80%9Ctensorflow_%E6%91%84%E6%B0%8F%E5%BA%A6%E4%B8%8E%E5%8D%8E%E6%B0%8F%E5%BA%A6%E7%9A%84%E8%BD%AC%E6%8D%A2_ipynb%E2%80%9D%E7%9A%84%E5%89%AF%E6%9C%AC.ipynb\" target=\"_parent\"><img src=\"https://colab.research.google.com/assets/colab-badge.svg\" alt=\"Open In Colab\"/></a>"
      ]
    },
    {
      "cell_type": "markdown",
      "source": [
        "## 导入依赖包"
      ],
      "metadata": {
        "id": "_eOUsborZxim"
      }
    },
    {
      "cell_type": "code",
      "execution_count": null,
      "metadata": {
        "id": "wfAJ4yVsUyYM"
      },
      "outputs": [],
      "source": [
        "import tensorflow as tf\n",
        "import numpy as np\n",
        "import logging"
      ]
    },
    {
      "cell_type": "code",
      "source": [
        "logger = tf.get_logger()  #获取日志行为记录\n",
        "logger.setLevel(logging.ERROR)  # 设置日志行为为：只有当发生严重错误(ERROR)时才会记录"
      ],
      "metadata": {
        "id": "UuzzfKGQVe8A"
      },
      "execution_count": null,
      "outputs": []
    },
    {
      "cell_type": "markdown",
      "source": [
        "## 设置训练数据"
      ],
      "metadata": {
        "id": "STUx3rmkaKIe"
      }
    },
    {
      "cell_type": "code",
      "source": [
        "celsius_q    = np.array([-40, -10,  0,  8, 15, 22,  38],  dtype=float)  # 摄氏度\n",
        "fahrenheit_a = np.array([-40,  14, 32, 46, 59, 72, 100],  dtype=float)  # 华氏度\n",
        "\n",
        "for i,c in enumerate(celsius_q):\n",
        "  print(\"{} degrees Celsius = {} degrees Fahrenheit\".format(c, fahrenheit_a[i]))"
      ],
      "metadata": {
        "id": "g4JRRS0JaOQ-",
        "outputId": "a3bca7b3-e495-4d24-950f-c888e73ef784",
        "colab": {
          "base_uri": "https://localhost:8080/"
        }
      },
      "execution_count": null,
      "outputs": [
        {
          "output_type": "stream",
          "name": "stdout",
          "text": [
            "-40.0 degrees Celsius = -40.0 degrees Fahrenheit\n",
            "-10.0 degrees Celsius = 14.0 degrees Fahrenheit\n",
            "0.0 degrees Celsius = 32.0 degrees Fahrenheit\n",
            "8.0 degrees Celsius = 46.0 degrees Fahrenheit\n",
            "15.0 degrees Celsius = 59.0 degrees Fahrenheit\n",
            "22.0 degrees Celsius = 72.0 degrees Fahrenheit\n",
            "38.0 degrees Celsius = 100.0 degrees Fahrenheit\n"
          ]
        }
      ]
    },
    {
      "cell_type": "markdown",
      "source": [
        "## 建立模型"
      ],
      "metadata": {
        "id": "2hgl-il-f0I8"
      }
    },
    {
      "cell_type": "markdown",
      "source": [
        "一个神经网络由多个层组成，每个层都由多个神经元组成。每个神经元接收来自上一层的输入，对其进行一些计算，然后将结果传递给下一层。\n",
        "\n",
        "例如，一个简单的全连接神经网络可能包含三层：输入层、隐藏层和输出层。\n",
        "\n",
        "输入层：这是网络的开始，接收外部数据。如果你的数据有10个特征，那么输入层就有10个神经元。\n",
        "\n",
        "隐藏层：这些层在输入层和输出层之间，每个层都由多个神经元组成。每个神经元都会接收来自上一层所有神经元的输入，对其进行加权求和，然后通过一个激活函数，如ReLU或sigmoid，输出结果。\n",
        "\n",
        "输出层：这是网络的最后一层，输出网络的预测结果。输出层的神经元数量取决于你的任务。例如，对于二分类问题，你可能只需要一个神经元来输出预测的概率。\n",
        "\n",
        "每个神经元与其下一层的每个神经元都有一个连接，每个连接都有一个权重，这些权重在训练过程中被学习和调整。"
      ],
      "metadata": {
        "id": "XxoSsMXcYDgp"
      }
    },
    {
      "cell_type": "code",
      "source": [
        "l0 = tf.keras.layers.Dense(units=1, input_shape=[1])"
      ],
      "metadata": {
        "id": "u2rnB6hcfzKr"
      },
      "execution_count": null,
      "outputs": []
    },
    {
      "cell_type": "markdown",
      "source": [
        "## 将层组装到模型中"
      ],
      "metadata": {
        "id": "bUX0qIOabkIi"
      }
    },
    {
      "cell_type": "code",
      "source": [
        "model = tf.keras.Sequential([l0])"
      ],
      "metadata": {
        "id": "TtXXsmArbpEd"
      },
      "execution_count": null,
      "outputs": []
    },
    {
      "cell_type": "markdown",
      "source": [
        "上面两步亦可以合称为一步：\n",
        "\n",
        "\n",
        "```\n",
        "model = tf.keras.Sequential([\n",
        "  tf.keras.layers.Dense(units=1, input_shape=[1])\n",
        "])\n",
        "\n",
        "```\n",
        "\n"
      ],
      "metadata": {
        "id": "B3TDKBVNb5Nk"
      }
    },
    {
      "cell_type": "markdown",
      "source": [
        "## 编译模型，带有损失和优化函数在训练之前，必须对模型进行编译。\n",
        "编译训练时，模型为:损失函数——一种测量预测与期望结果之间距离的方法。(测量的差异被称为“损失”。)<br>\n",
        "优化器函数——一种调整内部值以减少损失的方法。"
      ],
      "metadata": {
        "id": "HUL9SBzDcqD5"
      }
    },
    {
      "cell_type": "code",
      "source": [
        "model.compile(loss='mean_squared_error',\n",
        "              optimizer=tf.keras.optimizers.Adam(0.1))"
      ],
      "metadata": {
        "id": "O1-L23tacEPM"
      },
      "execution_count": null,
      "outputs": []
    },
    {
      "cell_type": "markdown",
      "source": [
        "这段代码是在配置模型的学习过程，它使用了compile方法。\n",
        "\n",
        "model.compile函数用于配置模型的学习过程，它接收三个主要参数：优化器（optimizer）、损失函数（loss）和评估指标（metrics）。\n",
        "\n",
        "在你的代码中：\n",
        "\n",
        "loss='mean_squared_error'：这是损失函数，也就是模型试图最小化的目标函数。这里使用的是均方误差（Mean Squared Error），它是回归问题常用的损失函数。\n",
        "\n",
        "optimizer=tf.keras.optimizers.Adam(0.1)：这是优化器，决定如何更新网络的权重。这里使用的是Adam优化器，它是一种常用的、效果良好的优化器。0.1是学习率，决定了权重更新的快慢，这是一个超参数，需要你手动设定。\n",
        "\n",
        "简单来说，就是本次学习中，用'mean_squared_error'来计算预测结果与期望值之间的差距（即损失），学习的效率是0.1（0.1-0.001）之间的任何数字都可以"
      ],
      "metadata": {
        "id": "ve5FC6ueeHJp"
      }
    },
    {
      "cell_type": "markdown",
      "source": [
        "## 训练模型\n",
        "\n",
        "\n",
        "*  celsius_q是输入数据，fahrenheit_a是目标数据。模型会学习如何从celsius_q预测fahrenheit_a。\n",
        "*  epochs=500表示你要训练500轮。在每一轮中，模型都会看到所有的输入数据（一次或多次，这取决于其他参数，如batch_size）\n",
        "*  verbose=False表示在训练过程中不打印详细的日志信息\n"
      ],
      "metadata": {
        "id": "XGOL5MAgiVL2"
      }
    },
    {
      "cell_type": "code",
      "source": [
        "history = model.fit(celsius_q, fahrenheit_a, epochs=500, verbose=False)\n",
        "print(\"Finished training the model\")"
      ],
      "metadata": {
        "id": "vTlQrJNHeIUW",
        "outputId": "02a5e467-f453-45a0-f0d7-02e8a09eae78",
        "colab": {
          "base_uri": "https://localhost:8080/"
        }
      },
      "execution_count": null,
      "outputs": [
        {
          "output_type": "stream",
          "name": "stdout",
          "text": [
            "Finished training the model\n"
          ]
        }
      ]
    },
    {
      "cell_type": "markdown",
      "source": [
        "## 显示训练统计数据\n",
        "* 使用plt方法绘制出损失值在训练过程中的变化趋势"
      ],
      "metadata": {
        "id": "2BwFloFnk57u"
      }
    },
    {
      "cell_type": "code",
      "source": [
        "import matplotlib.pyplot as plt\n",
        "plt.xlabel('Epoch Number')\n",
        "plt.ylabel(\"Loss Magnitude\")\n",
        "plt.plot(history.history['loss'])"
      ],
      "metadata": {
        "id": "iDanfTTejk2y",
        "outputId": "637dc8a5-022f-490b-c446-438a3ffa5ca5",
        "colab": {
          "base_uri": "https://localhost:8080/",
          "height": 466
        }
      },
      "execution_count": null,
      "outputs": [
        {
          "output_type": "execute_result",
          "data": {
            "text/plain": [
              "[<matplotlib.lines.Line2D at 0x7af80a8d06a0>]"
            ]
          },
          "metadata": {},
          "execution_count": 11
        },
        {
          "output_type": "display_data",
          "data": {
            "text/plain": [
              "<Figure size 640x480 with 1 Axes>"
            ],
            "image/png": "[encoded data removed]"
          },
          "metadata": {}
        }
      ]
    },
    {
      "cell_type": "markdown",
      "source": [
        "## 使用模型预测结果\n"
      ],
      "metadata": {
        "id": "G-4D-6G4mDKZ"
      }
    },
    {
      "cell_type": "code",
      "source": [
        "print(model.predict([100.0]))"
      ],
      "metadata": {
        "id": "A6Ev0dzwmGNZ",
        "outputId": "b87480a2-3d1c-4acc-bd95-b91130ba21f6",
        "colab": {
          "base_uri": "https://localhost:8080/"
        }
      },
      "execution_count": null,
      "outputs": [
        {
          "output_type": "stream",
          "name": "stdout",
          "text": [
            "1/1 [==============================] - 0s 141ms/step\n",
            "[[211.33832]]\n"
          ]
        }
      ]
    },
    {
      "cell_type": "markdown",
      "source": [
        "正确答案是100 × 1.8+32=212，所以我们的模型做得很好。<br>\n",
        "我们创建了一个具有Dense层的模型我们用3500个例子(7对，500个epoch)来训练它。我们的模型自动调整了Dense层中的变量(权重)，直到它能够为任何摄氏度值返回正确的华氏温度。(请记住，100摄氏度不是我们训练数据的一部分。)"
      ],
      "metadata": {
        "id": "29wGg3aFmSnu"
      }
    },
    {
      "cell_type": "markdown",
      "source": [
        "## 查看内部变量(权重)"
      ],
      "metadata": {
        "id": "_3beW5vQmtz3"
      }
    },
    {
      "cell_type": "code",
      "source": [
        "print(\"These are the layer variables: {}\".format(l0.get_weights()))"
      ],
      "metadata": {
        "id": "vxWHEtOfmzRa",
        "outputId": "1d61d687-b668-4943-e23d-df99f00af994",
        "colab": {
          "base_uri": "https://localhost:8080/"
        }
      },
      "execution_count": null,
      "outputs": [
        {
          "output_type": "stream",
          "name": "stdout",
          "text": [
            "These are the layer variables: [array([[1.8201864]], dtype=float32), array([29.319687], dtype=float32)]\n"
          ]
        }
      ]
    },
    {
      "cell_type": "markdown",
      "source": [
        "摄氏度转换华氏度：f=1.8c+32\n",
        "可以看出，我们模型训练出的第一个值接近1.8，第二个值接近32"
      ],
      "metadata": {
        "id": "c6lJQR8PnFLj"
      }
    },
    {
      "cell_type": "markdown",
      "source": [
        "## 一个小实验，创建更多密集层"
      ],
      "metadata": {
        "id": "NVSM4vHfniZ3"
      }
    },
    {
      "cell_type": "code",
      "source": [
        "l0 = tf.keras.layers.Dense(units=4, input_shape=[1])\n",
        "l1 = tf.keras.layers.Dense(units=4)\n",
        "l2 = tf.keras.layers.Dense(units=1)\n",
        "model = tf.keras.Sequential([l0, l1, l2])\n",
        "model.compile(loss='mean_squared_error', optimizer=tf.keras.optimizers.Adam(0.1))\n",
        "model.fit(celsius_q, fahrenheit_a, epochs=500, verbose=False)\n",
        "print(\"Finished training the model\")\n",
        "print(model.predict([100.0]))\n",
        "print(\"Model predicts that 100 degrees Celsius is: {} degrees Fahrenheit\".format(model.predict([100.0])))\n",
        "print(\"These are the l0 variables: {}\".format(l0.get_weights()))\n",
        "print(\"These are the l1 variables: {}\".format(l1.get_weights()))\n",
        "print(\"These are the l2 variables: {}\".format(l2.get_weights()))"
      ],
      "metadata": {
        "id": "IThXctbNnrcO",
        "outputId": "47bcaecc-6107-41a1-d201-416b25693ef0",
        "colab": {
          "base_uri": "https://localhost:8080/"
        }
      },
      "execution_count": null,
      "outputs": [
        {
          "output_type": "stream",
          "name": "stdout",
          "text": [
            "Finished training the model\n",
            "1/1 [==============================] - 0s 181ms/step\n",
            "[[211.74745]]\n",
            "1/1 [==============================] - 0s 79ms/step\n",
            "Model predicts that 100 degrees Celsius is: [[211.74745]] degrees Fahrenheit\n",
            "These are the l0 variables: [array([[-0.13049011, -0.6518327 ,  0.00374866,  0.5716933 ]],\n",
            "      dtype=float32), array([-3.4445047, -3.6078477, -1.5946754,  3.7356288], dtype=float32)]\n",
            "These are the l1 variables: [array([[ 0.8927841 ,  1.0092483 ,  1.2111799 ,  0.82149565],\n",
            "       [ 0.6707155 ,  0.60707295,  0.27269116, -0.45075792],\n",
            "       [ 0.02186883,  0.727707  , -0.68735874, -0.93562   ],\n",
            "       [ 0.8380981 , -0.55066496, -0.90294516,  0.06207708]],\n",
            "      dtype=float32), array([-3.2885096 , -3.5088904 , -3.671486  , -0.11795927], dtype=float32)]\n",
            "These are the l2 variables: [array([[-0.61249036],\n",
            "       [-1.3465383 ],\n",
            "       [-0.74705195],\n",
            "       [-0.07542934]], dtype=float32), array([3.5162232], dtype=float32)]\n"
          ]
        }
      ]
    }
  ]
}