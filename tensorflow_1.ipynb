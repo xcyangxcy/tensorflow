{
  "nbformat": 4,
  "nbformat_minor": 0,
  "metadata": {
    "colab": {
      "provenance": [],
      "authorship_tag": "ABX9TyNYg4o6Q18sYdyiDD239XIo",
      "include_colab_link": true
    },
    "kernelspec": {
      "name": "python3",
      "display_name": "Python 3"
    },
    "language_info": {
      "name": "python"
    }
  },
  "cells": [
    {
      "cell_type": "markdown",
      "metadata": {
        "id": "view-in-github",
        "colab_type": "text"
      },
      "source": [
        "<a href=\"https://colab.research.google.com/github/xcyangxcy/tensorflow/blob/main/tensorflow_1.ipynb\" target=\"_parent\"><img src=\"https://colab.research.google.com/assets/colab-badge.svg\" alt=\"Open In Colab\"/></a>"
      ]
    },
    {
      "cell_type": "markdown",
      "source": [
        "## 导入依赖包"
      ],
      "metadata": {
        "id": "_eOUsborZxim"
      }
    },
    {
      "cell_type": "code",
      "execution_count": null,
      "metadata": {
        "id": "wfAJ4yVsUyYM"
      },
      "outputs": [],
      "source": [
        "import tensorflow as tf\n",
        "import numpy as np\n",
        "import logging"
      ]
    },
    {
      "cell_type": "code",
      "source": [
        "logger = tf.get_logger()  #获取日志行为记录\n",
        "logger.setLevel(logging.ERROR)  # 设置日志行为为：只有当发生严重错误(ERROR)时才会记录"
      ],
      "metadata": {
        "id": "UuzzfKGQVe8A"
      },
      "execution_count": null,
      "outputs": []
    },
    {
      "cell_type": "markdown",
      "source": [
        "## 设置训练数据"
      ],
      "metadata": {
        "id": "STUx3rmkaKIe"
      }
    },
    {
      "cell_type": "code",
      "source": [
        "celsius_q    = np.array([-40, -10,  0,  8, 15, 22,  38],  dtype=float)  # 摄氏度\n",
        "fahrenheit_a = np.array([-40,  14, 32, 46, 59, 72, 100],  dtype=float)  # 华氏度\n",
        "\n",
        "for i,c in enumerate(celsius_q):\n",
        "  print(\"{} degrees Celsius = {} degrees Fahrenheit\".format(c, fahrenheit_a[i]))"
      ],
      "metadata": {
        "id": "g4JRRS0JaOQ-"
      },
      "execution_count": null,
      "outputs": []
    },
    {
      "cell_type": "markdown",
      "source": [
        "## 建立模型"
      ],
      "metadata": {
        "id": "2hgl-il-f0I8"
      }
    },
    {
      "cell_type": "code",
      "source": [],
      "metadata": {
        "id": "u2rnB6hcfzKr"
      },
      "execution_count": null,
      "outputs": []
    }
  ]
}